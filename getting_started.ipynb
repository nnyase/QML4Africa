{
 "cells": [
  {
   "cell_type": "markdown",
   "id": "7acae0f9",
   "metadata": {},
   "source": [
    "## Welcome to the Quantum Computing 4 Africa Workshop \n",
    "\n",
    "We’re thrilled to have you join us for this exciting and hands-on introduction to quantum computing! Whether you're a student, researcher, developer, or industry profesional, this workshop is designed to give you practical exposure to one of the most revolutionary fields in technology today.\n",
    "\n",
    "### What will you learn\n",
    "\n",
    "The following labs will introduce you to the foundations of quantum computing using Python and the Qiskit framework. Throughout this workshop, you'll explore:\n",
    "\n",
    "- The basics of quantum gates and quantum circuits\n",
    "\n",
    "- Exploring the bloch sphere\n",
    "\n",
    "- How to build and run circuits on simulators and real quantum hardware\n",
    "\n",
    "- An introduction to quantum machine learning using the iris dataset\n",
    "\n",
    "### Getting Started\n",
    "\n",
    "The main goal of this introductory lab is to show you how to get started with quantum computing using Python. Quantum computers stand as a promising technology that promises to disrupt how some calculations are done. From breaking encryptation with Shor's algorithm, to enable faster searches with Grover's to even design better batteries with quantum phase estimation. However, when we think about these nice applications, we have to think as well about how to design and execute these algorithms. For many of us this tool is Qiskit! A software for design and implementation of quantum circuits in simulators and real hardware. We will the Qiskit library, which is one of the most popular quantum computing libraries in Python.\n",
    "\n",
    "you will need Qiskit 2.0 and this notebook is going to provide you with the detailed instructions to get your machine ready to go!\n",
    "\n",
    "First you must check that the version of python you are using in your environment is python>=3.9.6, to make sure that it will be compatible with the latest Qiskit version we will use\n",
    "\n",
    "Furthermore, you can also find many useful resources on IBM's new page of quantum education [IBM Quantum Learning](https://learning.quantum.ibm.com/)."
   ]
  },
  {
   "cell_type": "code",
   "execution_count": 1,
   "id": "f59f5cb9",
   "metadata": {},
   "outputs": [
    {
     "name": "stdout",
     "output_type": "stream",
     "text": [
      "3.12.11\n"
     ]
    }
   ],
   "source": [
    "from platform import python_version\n",
    "\n",
    "print(python_version())"
   ]
  },
  {
   "cell_type": "markdown",
   "id": "dfd4450c",
   "metadata": {},
   "source": [
    "If that is not your case, you can upgrade it using your preferred tool. If you are unsure about how to do it, some recommended options are:\n",
    "\n",
    "- MacOS: [Homebrew](https://brew.sh/)\n",
    "- Windows: [Chocolatey](https://chocolatey.org/install)\n",
    "- Linux: `sudo apt-get update `\n",
    "\n",
    "\n",
    "A detailed guide on how to do it depending on your OS is detailed here: [How to update python](https://4geeks.com/how-to/how-to-update-python-version)"
   ]
  },
  {
   "cell_type": "markdown",
   "id": "17506780",
   "metadata": {},
   "source": [
    "## Troubleshooting <a id=\"troubleshooting\"></a>\n",
    "\n",
    "If the previous cell raised any error, you can opt to install Qiskit in a virtual environment. Otherwise, you can ignore this cell and proceed to the next one.\n",
    "\n",
    "Here we propose two different methods to set up a virtual environment to install Qiskit.\n",
    "1. Using [venv](https://docs.python.org/3/library/venv.html), as explained in the [Qiskit installation guide](https://docs.quantum.ibm.com/guides/install-qiskit). \n",
    "2. Using [conda](https://docs.conda.io/projects/conda/en/latest/user-guide/install/index.html), as explained in this video of [Coding with Qiskit](https://www.youtube.com/watch?v=93-zLTppFZw&list=PLOFEBzvs-VvrgHZt3exM_NNiNKtZlHvZi&index=4).\n",
    "\n",
    "Both methods are respectively detailed in the Qiskit links provided."
   ]
  },
  {
   "cell_type": "markdown",
   "id": "71731bcd",
   "metadata": {},
   "source": [
    "## Installing Dependencies\n",
    "\n",
    "```bash\n",
    "conda create -n qml4africa python=3.12 -y\n",
    "conda activate qml4africa\n",
    "pip install -r requirements.txt\n",
    "```\n"
   ]
  },
  {
   "cell_type": "markdown",
   "id": "2be77dbf",
   "metadata": {},
   "source": [
    "## Setting IBM Cloud account <a id=\"setting-ibm-cloud\"></a>\n",
    "\n",
    "This point is very important since it will be an essential step for tracking your progress with the grader. Also, it will allow you to execute quantum circuits on real hardware.\n",
    "\n",
    "\n",
    "![ibm_quantum_cloud.png](attachment:image.png)\n",
    "\n",
    "To do so, you need to follow the following steps:\n",
    "\n",
    "1. Go to the [upgraded IBM Quantum Platform](https://quantum.cloud.ibm.com/).\n",
    "2. Check that you log in using the same email you registered for this event with.\n",
    "3. Go to the top right corner of the above picture and create your API token and copy it.\n",
    "4. In the cell below, replace `deleteThisAndPasteYourAPIKeyHere` with your API key.\n",
    "5. Go to the bottom left corner of the above picture and **create your instance**.\n",
    "6. After the instance is created, copy its associated CRN code.\n",
    "7. In the cell below, replace `deleteThisAndPasteYourCRNHere` with your CRN code.\n",
    "\n",
    "See [this guide](https://quantum.cloud.ibm.com/docs/en/guides/cloud-setup) for more details on how to set up your IBM Cloud account.\n"
   ]
  },
  {
   "cell_type": "code",
   "execution_count": 2,
   "id": "d8bca42f",
   "metadata": {},
   "outputs": [],
   "source": [
    "# Save your API key to track your progress and have access to the quantum computers\n",
    "from qiskit_ibm_runtime import QiskitRuntimeService\n",
    "\n",
    "your_api_key = \"deleteThisAndPasteYourAPIKeyHere\"\n",
    "your_crn = \"deleteThisAndPasteYourCRNHere\"\n",
    "QiskitRuntimeService.save_account(\n",
    "    channel=\"ibm_cloud\",\n",
    "    token=your_api_key,\n",
    "    instance=your_crn,\n",
    "    set_as_default=True,\n",
    "    overwrite=True,\n",
    ")"
   ]
  },
  {
   "cell_type": "code",
   "execution_count": 3,
   "id": "b8a2b736",
   "metadata": {},
   "outputs": [
    {
     "ename": "InvalidAccountError",
     "evalue": "'Unable to retrieve instances.'",
     "output_type": "error",
     "traceback": [
      "\u001b[31m---------------------------------------------------------------------------\u001b[39m",
      "\u001b[31mApiException\u001b[39m                              Traceback (most recent call last)",
      "\u001b[36mFile \u001b[39m\u001b[32m~/miniforge3/envs/quantum_dlix/lib/python3.12/site-packages/qiskit_ibm_runtime/accounts/account.py:364\u001b[39m, in \u001b[36mCloudAccount.list_instances\u001b[39m\u001b[34m(self)\u001b[39m\n\u001b[32m    363\u001b[39m \u001b[38;5;28;01mtry\u001b[39;00m:\n\u001b[32m--> \u001b[39m\u001b[32m364\u001b[39m     result = \u001b[43mclient\u001b[49m\u001b[43m.\u001b[49m\u001b[43msearch\u001b[49m\u001b[43m(\u001b[49m\n\u001b[32m    365\u001b[39m \u001b[43m        \u001b[49m\u001b[43mquery\u001b[49m\u001b[43m=\u001b[49m\u001b[33;43m\"\u001b[39;49m\u001b[33;43mservice_name:quantum-computing\u001b[39;49m\u001b[33;43m\"\u001b[39;49m\u001b[43m,\u001b[49m\n\u001b[32m    366\u001b[39m \u001b[43m        \u001b[49m\u001b[43mfields\u001b[49m\u001b[43m=\u001b[49m\u001b[43m[\u001b[49m\u001b[33;43m\"\u001b[39;49m\u001b[33;43mcrn\u001b[39;49m\u001b[33;43m\"\u001b[39;49m\u001b[43m,\u001b[49m\u001b[43m \u001b[49m\u001b[33;43m\"\u001b[39;49m\u001b[33;43mservice_plan_unique_id\u001b[39;49m\u001b[33;43m\"\u001b[39;49m\u001b[43m,\u001b[49m\u001b[43m \u001b[49m\u001b[33;43m\"\u001b[39;49m\u001b[33;43mname\u001b[39;49m\u001b[33;43m\"\u001b[39;49m\u001b[43m,\u001b[49m\u001b[43m \u001b[49m\u001b[33;43m\"\u001b[39;49m\u001b[33;43mdoc\u001b[39;49m\u001b[33;43m\"\u001b[39;49m\u001b[43m]\u001b[49m\u001b[43m,\u001b[49m\n\u001b[32m    367\u001b[39m \u001b[43m        \u001b[49m\u001b[43msearch_cursor\u001b[49m\u001b[43m=\u001b[49m\u001b[43msearch_cursor\u001b[49m\u001b[43m,\u001b[49m\n\u001b[32m    368\u001b[39m \u001b[43m        \u001b[49m\u001b[43mlimit\u001b[49m\u001b[43m=\u001b[49m\u001b[32;43m100\u001b[39;49m\u001b[43m,\u001b[49m\n\u001b[32m    369\u001b[39m \u001b[43m    \u001b[49m\u001b[43m)\u001b[49m.get_result()\n\u001b[32m    370\u001b[39m \u001b[38;5;28;01mexcept\u001b[39;00m:\n",
      "\u001b[36mFile \u001b[39m\u001b[32m~/miniforge3/envs/quantum_dlix/lib/python3.12/site-packages/ibm_platform_services/global_search_v2.py:236\u001b[39m, in \u001b[36mGlobalSearchV2.search\u001b[39m\u001b[34m(self, query, fields, search_cursor, x_request_id, x_correlation_id, account_id, limit, timeout, sort, is_deleted, is_reclaimed, is_public, impersonate_user, can_tag, is_project_resource, **kwargs)\u001b[39m\n\u001b[32m    235\u001b[39m url = \u001b[33m'\u001b[39m\u001b[33m/v3/resources/search\u001b[39m\u001b[33m'\u001b[39m\n\u001b[32m--> \u001b[39m\u001b[32m236\u001b[39m request = \u001b[38;5;28;43mself\u001b[39;49m\u001b[43m.\u001b[49m\u001b[43mprepare_request\u001b[49m\u001b[43m(\u001b[49m\n\u001b[32m    237\u001b[39m \u001b[43m    \u001b[49m\u001b[43mmethod\u001b[49m\u001b[43m=\u001b[49m\u001b[33;43m'\u001b[39;49m\u001b[33;43mPOST\u001b[39;49m\u001b[33;43m'\u001b[39;49m\u001b[43m,\u001b[49m\n\u001b[32m    238\u001b[39m \u001b[43m    \u001b[49m\u001b[43murl\u001b[49m\u001b[43m=\u001b[49m\u001b[43murl\u001b[49m\u001b[43m,\u001b[49m\n\u001b[32m    239\u001b[39m \u001b[43m    \u001b[49m\u001b[43mheaders\u001b[49m\u001b[43m=\u001b[49m\u001b[43mheaders\u001b[49m\u001b[43m,\u001b[49m\n\u001b[32m    240\u001b[39m \u001b[43m    \u001b[49m\u001b[43mparams\u001b[49m\u001b[43m=\u001b[49m\u001b[43mparams\u001b[49m\u001b[43m,\u001b[49m\n\u001b[32m    241\u001b[39m \u001b[43m    \u001b[49m\u001b[43mdata\u001b[49m\u001b[43m=\u001b[49m\u001b[43mdata\u001b[49m\u001b[43m,\u001b[49m\n\u001b[32m    242\u001b[39m \u001b[43m\u001b[49m\u001b[43m)\u001b[49m\n\u001b[32m    244\u001b[39m response = \u001b[38;5;28mself\u001b[39m.send(request, **kwargs)\n",
      "\u001b[36mFile \u001b[39m\u001b[32m~/miniforge3/envs/quantum_dlix/lib/python3.12/site-packages/ibm_cloud_sdk_core/base_service.py:441\u001b[39m, in \u001b[36mBaseService.prepare_request\u001b[39m\u001b[34m(self, method, url, headers, params, data, files, **kwargs)\u001b[39m\n\u001b[32m    439\u001b[39m request[\u001b[33m'\u001b[39m\u001b[33mdata\u001b[39m\u001b[33m'\u001b[39m] = data\n\u001b[32m--> \u001b[39m\u001b[32m441\u001b[39m \u001b[38;5;28;43mself\u001b[39;49m\u001b[43m.\u001b[49m\u001b[43mauthenticator\u001b[49m\u001b[43m.\u001b[49m\u001b[43mauthenticate\u001b[49m\u001b[43m(\u001b[49m\u001b[43mrequest\u001b[49m\u001b[43m)\u001b[49m\n\u001b[32m    443\u001b[39m \u001b[38;5;66;03m# Compress the request body if applicable\u001b[39;00m\n",
      "\u001b[36mFile \u001b[39m\u001b[32m~/miniforge3/envs/quantum_dlix/lib/python3.12/site-packages/ibm_cloud_sdk_core/authenticators/iam_request_based_authenticator.py:64\u001b[39m, in \u001b[36mIAMRequestBasedAuthenticator.authenticate\u001b[39m\u001b[34m(self, req)\u001b[39m\n\u001b[32m     63\u001b[39m headers = req.get(\u001b[33m'\u001b[39m\u001b[33mheaders\u001b[39m\u001b[33m'\u001b[39m)\n\u001b[32m---> \u001b[39m\u001b[32m64\u001b[39m bearer_token = \u001b[38;5;28;43mself\u001b[39;49m\u001b[43m.\u001b[49m\u001b[43mtoken_manager\u001b[49m\u001b[43m.\u001b[49m\u001b[43mget_token\u001b[49m\u001b[43m(\u001b[49m\u001b[43m)\u001b[49m\n\u001b[32m     65\u001b[39m headers[\u001b[33m'\u001b[39m\u001b[33mAuthorization\u001b[39m\u001b[33m'\u001b[39m] = \u001b[33m'\u001b[39m\u001b[33mBearer \u001b[39m\u001b[38;5;132;01m{0}\u001b[39;00m\u001b[33m'\u001b[39m.format(bearer_token)\n",
      "\u001b[36mFile \u001b[39m\u001b[32m~/miniforge3/envs/quantum_dlix/lib/python3.12/site-packages/ibm_cloud_sdk_core/token_managers/token_manager.py:82\u001b[39m, in \u001b[36mTokenManager.get_token\u001b[39m\u001b[34m(self)\u001b[39m\n\u001b[32m     81\u001b[39m     logger.debug(\u001b[33m'\u001b[39m\u001b[33mPerforming synchronous token fetch\u001b[39m\u001b[33m'\u001b[39m)\n\u001b[32m---> \u001b[39m\u001b[32m82\u001b[39m     \u001b[38;5;28;43mself\u001b[39;49m\u001b[43m.\u001b[49m\u001b[43mpaced_request_token\u001b[49m\u001b[43m(\u001b[49m\u001b[43m)\u001b[49m\n\u001b[32m     84\u001b[39m \u001b[38;5;28;01mif\u001b[39;00m \u001b[38;5;28mself\u001b[39m._token_needs_refresh():\n",
      "\u001b[36mFile \u001b[39m\u001b[32m~/miniforge3/envs/quantum_dlix/lib/python3.12/site-packages/ibm_cloud_sdk_core/token_managers/token_manager.py:141\u001b[39m, in \u001b[36mTokenManager.paced_request_token\u001b[39m\u001b[34m(self)\u001b[39m\n\u001b[32m    140\u001b[39m \u001b[38;5;28;01mif\u001b[39;00m \u001b[38;5;129;01mnot\u001b[39;00m request_active:\n\u001b[32m--> \u001b[39m\u001b[32m141\u001b[39m     token_response = \u001b[38;5;28;43mself\u001b[39;49m\u001b[43m.\u001b[49m\u001b[43mrequest_token\u001b[49m\u001b[43m(\u001b[49m\u001b[43m)\u001b[49m\n\u001b[32m    142\u001b[39m     \u001b[38;5;28mself\u001b[39m._save_token_info(token_response)\n",
      "\u001b[36mFile \u001b[39m\u001b[32m~/miniforge3/envs/quantum_dlix/lib/python3.12/site-packages/ibm_cloud_sdk_core/token_managers/iam_request_based_token_manager.py:127\u001b[39m, in \u001b[36mIAMRequestBasedTokenManager.request_token\u001b[39m\u001b[34m(self)\u001b[39m\n\u001b[32m    126\u001b[39m logger.debug(\u001b[33m'\u001b[39m\u001b[33mInvoking IAM get_token operation: \u001b[39m\u001b[38;5;132;01m%s\u001b[39;00m\u001b[33m'\u001b[39m, request_url)\n\u001b[32m--> \u001b[39m\u001b[32m127\u001b[39m response = \u001b[38;5;28;43mself\u001b[39;49m\u001b[43m.\u001b[49m\u001b[43m_request\u001b[49m\u001b[43m(\u001b[49m\n\u001b[32m    128\u001b[39m \u001b[43m    \u001b[49m\u001b[43mmethod\u001b[49m\u001b[43m=\u001b[49m\u001b[33;43m'\u001b[39;49m\u001b[33;43mPOST\u001b[39;49m\u001b[33;43m'\u001b[39;49m\u001b[43m,\u001b[49m\n\u001b[32m    129\u001b[39m \u001b[43m    \u001b[49m\u001b[43murl\u001b[49m\u001b[43m=\u001b[49m\u001b[43mrequest_url\u001b[49m\u001b[43m,\u001b[49m\n\u001b[32m    130\u001b[39m \u001b[43m    \u001b[49m\u001b[43mheaders\u001b[49m\u001b[43m=\u001b[49m\u001b[43mrequest_headers\u001b[49m\u001b[43m,\u001b[49m\n\u001b[32m    131\u001b[39m \u001b[43m    \u001b[49m\u001b[43mdata\u001b[49m\u001b[43m=\u001b[49m\u001b[43mdata\u001b[49m\u001b[43m,\u001b[49m\n\u001b[32m    132\u001b[39m \u001b[43m    \u001b[49m\u001b[43mauth_tuple\u001b[49m\u001b[43m=\u001b[49m\u001b[43mauth_tuple\u001b[49m\u001b[43m,\u001b[49m\n\u001b[32m    133\u001b[39m \u001b[43m    \u001b[49m\u001b[43mproxies\u001b[49m\u001b[43m=\u001b[49m\u001b[38;5;28;43mself\u001b[39;49m\u001b[43m.\u001b[49m\u001b[43mproxies\u001b[49m\u001b[43m,\u001b[49m\n\u001b[32m    134\u001b[39m \u001b[43m\u001b[49m\u001b[43m)\u001b[49m\n\u001b[32m    135\u001b[39m logger.debug(\u001b[33m'\u001b[39m\u001b[33mReturned from IAM get_token operation\u001b[39m\u001b[33m'\u001b[39m)\n",
      "\u001b[36mFile \u001b[39m\u001b[32m~/miniforge3/envs/quantum_dlix/lib/python3.12/site-packages/ibm_cloud_sdk_core/token_managers/jwt_token_manager.py:91\u001b[39m, in \u001b[36mJWTTokenManager._request\u001b[39m\u001b[34m(self, method, url, headers, params, data, auth_tuple, **kwargs)\u001b[39m\n\u001b[32m     89\u001b[39m     \u001b[38;5;28;01mreturn\u001b[39;00m response.json()\n\u001b[32m---> \u001b[39m\u001b[32m91\u001b[39m \u001b[38;5;28;01mraise\u001b[39;00m ApiException(response.status_code, http_response=response)\n",
      "\u001b[31mApiException\u001b[39m: Error: Provided API key could not be found., Status code: 400",
      "\nDuring handling of the above exception, another exception occurred:\n",
      "\u001b[31mInvalidAccountError\u001b[39m                       Traceback (most recent call last)",
      "\u001b[36mCell\u001b[39m\u001b[36m \u001b[39m\u001b[32mIn[3]\u001b[39m\u001b[32m, line 4\u001b[39m\n\u001b[32m      1\u001b[39m \u001b[38;5;66;03m# Check that the account has been saved properly\u001b[39;00m\n\u001b[32m      2\u001b[39m \u001b[38;5;28;01mfrom\u001b[39;00m\u001b[38;5;250m \u001b[39m\u001b[34;01mqiskit_ibm_runtime\u001b[39;00m\u001b[38;5;250m \u001b[39m\u001b[38;5;28;01mimport\u001b[39;00m QiskitRuntimeService\n\u001b[32m----> \u001b[39m\u001b[32m4\u001b[39m service = \u001b[43mQiskitRuntimeService\u001b[49m\u001b[43m(\u001b[49m\u001b[43mchannel\u001b[49m\u001b[43m=\u001b[49m\u001b[33;43m\"\u001b[39;49m\u001b[33;43mibm_cloud\u001b[39;49m\u001b[33;43m\"\u001b[39;49m\u001b[43m,\u001b[49m\u001b[43m \u001b[49m\u001b[43minstance\u001b[49m\u001b[43m=\u001b[49m\u001b[43myour_crn\u001b[49m\u001b[43m,\u001b[49m\u001b[43m \u001b[49m\u001b[43mtoken\u001b[49m\u001b[43m=\u001b[49m\u001b[43myour_api_key\u001b[49m\u001b[43m,\u001b[49m\u001b[43m \u001b[49m\u001b[43mverify\u001b[49m\u001b[43m=\u001b[49m\u001b[38;5;28;43;01mTrue\u001b[39;49;00m\u001b[43m)\u001b[49m\n\u001b[32m      5\u001b[39m service.saved_accounts()\n",
      "\u001b[36mFile \u001b[39m\u001b[32m~/miniforge3/envs/quantum_dlix/lib/python3.12/site-packages/qiskit_ibm_runtime/qiskit_runtime_service.py:157\u001b[39m, in \u001b[36mQiskitRuntimeService.__init__\u001b[39m\u001b[34m(self, channel, token, url, filename, name, instance, proxies, verify, private_endpoint, url_resolver, region, plans_preference)\u001b[39m\n\u001b[32m    155\u001b[39m \u001b[38;5;28mself\u001b[39m._all_instances: List[Dict[\u001b[38;5;28mstr\u001b[39m, \u001b[38;5;28mstr\u001b[39m]] = []\n\u001b[32m    156\u001b[39m \u001b[38;5;28mself\u001b[39m._saved_instances: List[\u001b[38;5;28mstr\u001b[39m] = []\n\u001b[32m--> \u001b[39m\u001b[32m157\u001b[39m \u001b[38;5;28mself\u001b[39m._account = \u001b[38;5;28;43mself\u001b[39;49m\u001b[43m.\u001b[49m\u001b[43m_discover_account\u001b[49m\u001b[43m(\u001b[49m\n\u001b[32m    158\u001b[39m \u001b[43m    \u001b[49m\u001b[43mtoken\u001b[49m\u001b[43m=\u001b[49m\u001b[43mtoken\u001b[49m\u001b[43m,\u001b[49m\n\u001b[32m    159\u001b[39m \u001b[43m    \u001b[49m\u001b[43murl\u001b[49m\u001b[43m=\u001b[49m\u001b[43murl\u001b[49m\u001b[43m,\u001b[49m\n\u001b[32m    160\u001b[39m \u001b[43m    \u001b[49m\u001b[43minstance\u001b[49m\u001b[43m=\u001b[49m\u001b[43minstance\u001b[49m\u001b[43m,\u001b[49m\n\u001b[32m    161\u001b[39m \u001b[43m    \u001b[49m\u001b[43mchannel\u001b[49m\u001b[43m=\u001b[49m\u001b[43mchannel\u001b[49m\u001b[43m,\u001b[49m\n\u001b[32m    162\u001b[39m \u001b[43m    \u001b[49m\u001b[43mfilename\u001b[49m\u001b[43m=\u001b[49m\u001b[43mfilename\u001b[49m\u001b[43m,\u001b[49m\n\u001b[32m    163\u001b[39m \u001b[43m    \u001b[49m\u001b[43mname\u001b[49m\u001b[43m=\u001b[49m\u001b[43mname\u001b[49m\u001b[43m,\u001b[49m\n\u001b[32m    164\u001b[39m \u001b[43m    \u001b[49m\u001b[43mproxies\u001b[49m\u001b[43m=\u001b[49m\u001b[43mProxyConfiguration\u001b[49m\u001b[43m(\u001b[49m\u001b[43m*\u001b[49m\u001b[43m*\u001b[49m\u001b[43mproxies\u001b[49m\u001b[43m)\u001b[49m\u001b[43m \u001b[49m\u001b[38;5;28;43;01mif\u001b[39;49;00m\u001b[43m \u001b[49m\u001b[43mproxies\u001b[49m\u001b[43m \u001b[49m\u001b[38;5;28;43;01melse\u001b[39;49;00m\u001b[43m \u001b[49m\u001b[38;5;28;43;01mNone\u001b[39;49;00m\u001b[43m,\u001b[49m\n\u001b[32m    165\u001b[39m \u001b[43m    \u001b[49m\u001b[43mverify\u001b[49m\u001b[43m=\u001b[49m\u001b[43mverify\u001b[49m\u001b[43m,\u001b[49m\n\u001b[32m    166\u001b[39m \u001b[43m\u001b[49m\u001b[43m)\u001b[49m\n\u001b[32m    168\u001b[39m \u001b[38;5;28;01mif\u001b[39;00m private_endpoint \u001b[38;5;129;01mis\u001b[39;00m \u001b[38;5;129;01mnot\u001b[39;00m \u001b[38;5;28;01mNone\u001b[39;00m:\n\u001b[32m    169\u001b[39m     \u001b[38;5;28mself\u001b[39m._account.private_endpoint = private_endpoint\n",
      "\u001b[36mFile \u001b[39m\u001b[32m~/miniforge3/envs/quantum_dlix/lib/python3.12/site-packages/qiskit_ibm_runtime/qiskit_runtime_service.py:363\u001b[39m, in \u001b[36mQiskitRuntimeService._discover_account\u001b[39m\u001b[34m(self, token, url, instance, channel, filename, name, proxies, verify)\u001b[39m\n\u001b[32m    357\u001b[39m \u001b[38;5;66;03m# if instance is a name, change it to crn format\u001b[39;00m\n\u001b[32m    358\u001b[39m \u001b[38;5;28;01mif\u001b[39;00m (\n\u001b[32m    359\u001b[39m     account.channel \u001b[38;5;129;01min\u001b[39;00m [\u001b[33m\"\u001b[39m\u001b[33mibm_cloud\u001b[39m\u001b[33m\"\u001b[39m, \u001b[33m\"\u001b[39m\u001b[33mibm_quantum_platform\u001b[39m\u001b[33m\"\u001b[39m]\n\u001b[32m    360\u001b[39m     \u001b[38;5;129;01mand\u001b[39;00m account.instance\n\u001b[32m    361\u001b[39m     \u001b[38;5;129;01mand\u001b[39;00m \u001b[38;5;129;01mnot\u001b[39;00m is_crn(account.instance)\n\u001b[32m    362\u001b[39m ):\n\u001b[32m--> \u001b[39m\u001b[32m363\u001b[39m     account.instance = \u001b[38;5;28;43mself\u001b[39;49m\u001b[43m.\u001b[49m\u001b[43m_get_crn_from_instance_name\u001b[49m\u001b[43m(\u001b[49m\n\u001b[32m    364\u001b[39m \u001b[43m        \u001b[49m\u001b[43maccount\u001b[49m\u001b[43m=\u001b[49m\u001b[43maccount\u001b[49m\u001b[43m,\u001b[49m\u001b[43m \u001b[49m\u001b[43minstance\u001b[49m\u001b[43m=\u001b[49m\u001b[43maccount\u001b[49m\u001b[43m.\u001b[49m\u001b[43minstance\u001b[49m\n\u001b[32m    365\u001b[39m \u001b[43m    \u001b[49m\u001b[43m)\u001b[49m\n\u001b[32m    367\u001b[39m \u001b[38;5;66;03m# ensure account is valid, fail early if not\u001b[39;00m\n\u001b[32m    368\u001b[39m account.validate()\n",
      "\u001b[36mFile \u001b[39m\u001b[32m~/miniforge3/envs/quantum_dlix/lib/python3.12/site-packages/qiskit_ibm_runtime/qiskit_runtime_service.py:376\u001b[39m, in \u001b[36mQiskitRuntimeService._get_crn_from_instance_name\u001b[39m\u001b[34m(self, account, instance)\u001b[39m\n\u001b[32m    373\u001b[39m \u001b[38;5;250m\u001b[39m\u001b[33;03m\"\"\"Get the crn from the instance service name for ibm_cloud and ibm_quantum_platform channels.\"\"\"\u001b[39;00m\n\u001b[32m    375\u001b[39m \u001b[38;5;28;01mif\u001b[39;00m \u001b[38;5;129;01mnot\u001b[39;00m \u001b[38;5;28mself\u001b[39m._all_instances:\n\u001b[32m--> \u001b[39m\u001b[32m376\u001b[39m     \u001b[38;5;28mself\u001b[39m._all_instances = \u001b[43maccount\u001b[49m\u001b[43m.\u001b[49m\u001b[43mlist_instances\u001b[49m\u001b[43m(\u001b[49m\u001b[43m)\u001b[49m\n\u001b[32m    377\u001b[39m matching_instances = [item \u001b[38;5;28;01mfor\u001b[39;00m item \u001b[38;5;129;01min\u001b[39;00m \u001b[38;5;28mself\u001b[39m._all_instances \u001b[38;5;28;01mif\u001b[39;00m item[\u001b[33m\"\u001b[39m\u001b[33mname\u001b[39m\u001b[33m\"\u001b[39m] == instance]\n\u001b[32m    378\u001b[39m \u001b[38;5;28;01mif\u001b[39;00m matching_instances:\n",
      "\u001b[36mFile \u001b[39m\u001b[32m~/miniforge3/envs/quantum_dlix/lib/python3.12/site-packages/qiskit_ibm_runtime/accounts/account.py:371\u001b[39m, in \u001b[36mCloudAccount.list_instances\u001b[39m\u001b[34m(self)\u001b[39m\n\u001b[32m    364\u001b[39m     result = client.search(\n\u001b[32m    365\u001b[39m         query=\u001b[33m\"\u001b[39m\u001b[33mservice_name:quantum-computing\u001b[39m\u001b[33m\"\u001b[39m,\n\u001b[32m    366\u001b[39m         fields=[\u001b[33m\"\u001b[39m\u001b[33mcrn\u001b[39m\u001b[33m\"\u001b[39m, \u001b[33m\"\u001b[39m\u001b[33mservice_plan_unique_id\u001b[39m\u001b[33m\"\u001b[39m, \u001b[33m\"\u001b[39m\u001b[33mname\u001b[39m\u001b[33m\"\u001b[39m, \u001b[33m\"\u001b[39m\u001b[33mdoc\u001b[39m\u001b[33m\"\u001b[39m],\n\u001b[32m    367\u001b[39m         search_cursor=search_cursor,\n\u001b[32m    368\u001b[39m         limit=\u001b[32m100\u001b[39m,\n\u001b[32m    369\u001b[39m     ).get_result()\n\u001b[32m    370\u001b[39m \u001b[38;5;28;01mexcept\u001b[39;00m:\n\u001b[32m--> \u001b[39m\u001b[32m371\u001b[39m     \u001b[38;5;28;01mraise\u001b[39;00m InvalidAccountError(\u001b[33m\"\u001b[39m\u001b[33mUnable to retrieve instances.\u001b[39m\u001b[33m\"\u001b[39m)\n\u001b[32m    372\u001b[39m crns = []\n\u001b[32m    373\u001b[39m items = result.get(\u001b[33m\"\u001b[39m\u001b[33mitems\u001b[39m\u001b[33m\"\u001b[39m, [])\n",
      "\u001b[31mInvalidAccountError\u001b[39m: 'Unable to retrieve instances.'"
     ]
    }
   ],
   "source": [
    "# Check that the account has been saved properly\n",
    "from qiskit_ibm_runtime import QiskitRuntimeService\n",
    "\n",
    "service = QiskitRuntimeService(channel=\"ibm_cloud\", instance=your_crn, token=your_api_key, verify=True)\n",
    "service.saved_accounts()"
   ]
  },
  {
   "cell_type": "code",
   "execution_count": null,
   "id": "4ca3228a",
   "metadata": {},
   "outputs": [],
   "source": [
    "import matplotlib.pyplot as plt\n",
    "\n",
    "from qiskit import QuantumCircuit, transpile, generate_preset_pass_manager\n",
    "from qiskit.visualization import plot_histogram\n",
    "from qiskit.quantum_info import SparsePauliOp\n",
    "\n",
    "from qiskit_ibm_runtime import (\n",
    "    QiskitRuntimeService,\n",
    "    SamplerV2 as Sampler,\n",
    "    EstimatorV2 as Estimator\n",
    ")\n",
    "\n",
    "from qiskit_aer import AerSimulator\n",
    "\n",
    "from qiskit.circuit.library import RealAmplitudes\n",
    "from qiskit import QuantumRegister\n",
    "\n",
    "from qiskit_ibm_runtime import Session, SamplerV2 as Sampler"
   ]
  },
  {
   "cell_type": "markdown",
   "id": "a8106fd5",
   "metadata": {},
   "source": [
    "## Sanity check <a id=\"sanity-check\"></a>\n",
    "\n",
    "Let's now create a very simple quantum circuit to check that everything is working as expected and we are not incurring into any unexpected error."
   ]
  },
  {
   "cell_type": "code",
   "execution_count": null,
   "id": "5594e4b8",
   "metadata": {},
   "outputs": [
    {
     "data": {
      "image/png": "[encoded data removed]",
      "text/plain": [
       "<Figure size 287.294x200.667 with 1 Axes>"
      ]
     },
     "execution_count": 5,
     "metadata": {},
     "output_type": "execute_result"
    }
   ],
   "source": [
    "# Create a new circuit with a single qubit\n",
    "qc = QuantumCircuit(2)\n",
    "# Add a H gate to qubit 0\n",
    "qc.h(0)\n",
    "# Add a CNOT gate to qubit 1\n",
    "qc.cx(0, 1)\n",
    "# Return a drawing of the circuit using MatPlotLib (\"mpl\").\n",
    "qc.draw(\"mpl\")"
   ]
  },
  {
   "cell_type": "markdown",
   "id": "3908bf75",
   "metadata": {},
   "source": [
    "The drawing you are seeing represents a quantum circuit that produces a Bell state:\n",
    "\n",
    "$$|Bell\\rangle=\\frac{|00\\rangle+|11\\rangle}{\\sqrt{2}}$$"
   ]
  },
  {
   "cell_type": "markdown",
   "id": "1cfd8ac6",
   "metadata": {},
   "source": [
    "#  Hello, Quantum! — Generating Superposition\n",
    "\n",
    "Superposition is what lets a qubit hold both 0 and 1 at once—fueling quantum parallelism in algorithms from molecular simulation to optimization. Here, we’ll build a 1-qubit circuit, apply a Hadamard (H) gate to create an equal superposition, then measure to verify the 50/50 split."
   ]
  },
  {
   "cell_type": "code",
   "execution_count": null,
   "id": "4e081a23",
   "metadata": {},
   "outputs": [],
   "source": [
    "# ┌────────────────────────────────────────────────────┐\n",
    "# │ Create & Measure a Superposition       │\n",
    "# └────────────────────────────────────────────────────┘\n",
    "\n",
    "# 1. Imports\n",
    "from qiskit import QuantumCircuit, transpile\n",
    "from qiskit_aer import AerSimulator\n",
    "from qiskit.visualization import plot_histogram\n",
    "import matplotlib.pyplot as plt\n",
    "\n",
    "# 2. Build the circuit (1 qubit + measurement)\n",
    "qc = QuantumCircuit(1, 1)\n",
    "qc.h(0)\n",
    "qc.measure(0, 0)\n",
    "\n",
    "# 3. Initialize the Aer simulator\n",
    "sim = AerSimulator()\n",
    "\n",
    "# 4. Transpile for the simulator\n",
    "t_qc = transpile(qc, sim)\n",
    "\n",
    "# 5. Run the job and collect results\n",
    "job = sim.run(t_qc, shots=1024)\n",
    "result = job.result()\n",
    "counts = result.get_counts()\n",
    "\n",
    "# 6. Inspect results\n",
    "print(\"Measurement counts:\", counts)\n",
    "plot_histogram(counts)\n",
    "plt.show()\n"
   ]
  },
  {
   "cell_type": "markdown",
   "id": "11762a85",
   "metadata": {},
   "source": [
    "## Interpretation\n",
    "\n",
    "You should see roughly equal counts for '0' and '1'—that’s your superposition collapsing 50/50 upon measurement.\n",
    "\n",
    "This lays the groundwork for quantum speedups: the H-gate distributes amplitude across states, enabling parallel exploration of possibilities.\n",
    "\n",
    "### Next Steps\n",
    "\n",
    "Vary shots: Change shots=1024 to a smaller or larger number—do the probabilities converge?\n",
    "\n",
    "Double H: What happens if you apply qc.h(0) twice before measuring? (Hint: H·H = Identity)"
   ]
  },
  {
   "cell_type": "markdown",
   "id": "3fa3160f",
   "metadata": {},
   "source": [
    "# Generate a three-qubit GHZ state using Qiskit patterns <a id=\"ghz\"></a>\n",
    "\n",
    "Now, we will follow this episode of [Coding with Qiskit](https://www.youtube.com/watch?v=93-zLTppFZw&list=PLOFEBzvs-VvrgHZt3exM_NNiNKtZlHvZi&index=4) to guide you through the process of generating a three-qubit GHZ state using [Qiskit patterns](https://quantum.cloud.ibm.com/docs/en/guides/intro-to-patterns). \n",
    "\n",
    "A Qiskit pattern is a general framework for breaking down domain-specific problems and contextualizing required capabilities in stages. This allows for the seamless composability of new capabilities developed by IBM Quantum® researchers (and others) and enables a future in which quantum computing tasks are performed by powerful heterogenous (CPU/GPU/QPU) computing infrastructure. \n",
    "\n",
    "The four steps of a Qiskit pattern are as follows:\n",
    "\n",
    "1. **Map** problem to quantum circuits and operators\n",
    "2. **Optimize** for target hardware\n",
    "3. **Execute** on target hardware\n",
    "4. **Post-process** results\n",
    "\n",
    "\n",
    "## Step 1. Map <a id=\"map\"></a>\n",
    "\n",
    "The Greenberger–Horne–Zeilinger (GHZ) state is the extension to three (or more) qubits to the maximally entangled state characteristic of the Bell state depicted above. That means that the GHZ state is:\n",
    "\n",
    "$$\n",
    "|GHZ\\rangle = \\frac{|000\\rangle+|111\\rangle}{\\sqrt{2}}.\n",
    "$$\n",
    "\n",
    "One of the interesting things of the GHZ state is that there are different and equivalent ways to build it using a quantum circuit. In Exercise 1 you are asked to do it in one of the most common ones."
   ]
  },
  {
   "cell_type": "markdown",
   "id": "c30b198e",
   "metadata": {},
   "source": [
    "<a id=\"Exercise_1\"></a>\n",
    "<div class=\"alert alert-block alert-success\">\n",
    "    \n",
    "<b>Exercise 1: Design a GHZ state</b> \n",
    "\n",
    "In this exercise you are asked to design a GHZ state following the steps below:\n",
    "\n",
    "1. Applying a Hadamard gate to qubit 0, putting it into a superposition. \n",
    "2. Apply a CNOT gate between qubits 0 and 1.\n",
    "3. Apply a CNOT gate between qubits 1 and 2.\n",
    "\n",
    "</div>"
   ]
  },
  {
   "cell_type": "code",
   "execution_count": null,
   "id": "ee68a422",
   "metadata": {},
   "outputs": [],
   "source": [
    "# Create a new circuit with three qubits\n",
    "qc = QuantumCircuit(3)\n",
    "\n",
    "### WRITE YOUR CODE BELOW HERE ###\n",
    "\n",
    "# Add a H gate to qubit 0\n",
    "\n",
    "# Add a CNOT gate to qubits 0 and 1\n",
    "\n",
    "# Add a CNOT gate to qubits 1 and 2\n",
    "\n",
    "### YOUR CODE FINISHES HERE    ###"
   ]
  },
  {
   "cell_type": "markdown",
   "id": "97551e6b",
   "metadata": {},
   "source": [
    "## Step 2. Optimize <a id=\"optimize\"></a>\n",
    "\n",
    "Well done designing the circuit!\n",
    "\n",
    "In this case, the circuit is very shallow, and it is not possible to further simplify it or reduce the required number of gates that are needed to build the GHZ state. However, there are other scenarios in which optimizing the circuit is key.\n",
    "\n",
    "There may be situations where you face restrictions in how your quantum circuit can be designed. For example, when running circuits on quantum hardware, you might find connectivity constraints between qubits. This means that some qubits may not be physically connected, so you will need to think of a smart way to implement gates that produce the desired quantum state. Luckily for us, this is where Qiskit transpiler comes to the rescue! You can provide the desired circuit along with the device's constraints to the transpiler and it will handle the optimization for you.\n",
    "\n",
    "Let us consider, for the GHZ state, a situation in which we are limited to interactions only between qubits 0 and 1 and qubits 0 and 2, but not between qubits 1 and 2. We can introduce these constraints to the transpiler using the `transpile` function and take a look to the resultant circuit."
   ]
  },
  {
   "cell_type": "markdown",
   "id": "86bbed87",
   "metadata": {},
   "source": [
    "<a id=\"Exercise_2\"></a>\n",
    "<div class=\"alert alert-block alert-success\">\n",
    "    \n",
    "<b>Exercise 2: Transpile a GHZ state</b> \n",
    "\n",
    "In this second exercise you are asked to transpile the previous GHZ state with the mentioned connectivity constraints:\n",
    "\n",
    "- Qubit 0 <---> Qubit 1\n",
    "- Qubit 0 <---> Qubit 2\n",
    "- ~~Qubit 1 <---> Qubit 2~~\n",
    "\n",
    "</div>"
   ]
  },
  {
   "cell_type": "code",
   "execution_count": null,
   "id": "6e75b0ea",
   "metadata": {},
   "outputs": [
    {
     "data": {
      "image/png": "[encoded data removed]",
      "text/plain": [
       "<Figure size 339.775x200.667 with 1 Axes>"
      ]
     },
     "execution_count": 6,
     "metadata": {},
     "output_type": "execute_result"
    }
   ],
   "source": [
    "### WRITE YOUR CODE BELOW HERE ###\n",
    "# Write the coupling map of connections between qubits 0 and 1 and 0 and 2\n",
    "coupling_map = [[0,1],[0,2]]\n",
    "# Transpile the quantum circuit `qc` using the `transpile` function and the coupling map\n",
    "\n",
    "### YOUR CODE FINISHES HERE    ###\n",
    "\n",
    "# from qiskit.visualization import plot_circuit_layout\n",
    " \n",
    "# plot_circuit_layout(qc_t_cm_lv0, backend, view=\"physical\")"
   ]
  },
  {
   "cell_type": "markdown",
   "id": "a3598a66",
   "metadata": {},
   "source": [
    "## Step 3. Execute <a id=\"execute\"></a>\n",
    "\n",
    "The next step is exciting, we are going to run the quantum circuit using Qiskit Runtime! \n",
    "\n",
    "We will do that using the two [Qiskit Primitives](https://quantum.cloud.ibm.com/docs/en/guides/primitives):\n",
    "1. Sampler: it samples the output register from the execution of one or more quantum circuits. Its output is counts on per-shot measurements. \n",
    "2. Estimator: it computes the expectation value of one or more observables with respect to the states generated by the quantum circuit. Its output consist of the expectation values along with their standard errors.\n",
    "\n",
    "First, we execute our circuit using the Sampler, then save the results as the variable `results_sampler`. "
   ]
  },
  {
   "cell_type": "code",
   "execution_count": null,
   "id": "8e064a7b",
   "metadata": {},
   "outputs": [],
   "source": [
    "# Add measurement operations\n",
    "qc.measure_all()\n",
    "\n",
    "# Set up the backend\n",
    "backend = AerSimulator()\n",
    "\n",
    "# Set up the sampler\n",
    "sampler = Sampler(mode=backend)\n",
    "\n",
    "# Submit the circuit to Sampler\n",
    "pm = generate_preset_pass_manager(backend=backend, optimization_level=1)\n",
    "job = sampler.run(pm.run([qc]))\n",
    "\n",
    "# Get the results\n",
    "results_sampler = job.result()"
   ]
  },
  {
   "cell_type": "markdown",
   "id": "d253c602",
   "metadata": {},
   "source": [
    "Now, we run our circuit using the Estimator primitive, then save the results as the variable `results_estimator` "
   ]
  },
  {
   "cell_type": "code",
   "execution_count": null,
   "id": "f4a78b8b",
   "metadata": {},
   "outputs": [
    {
     "ename": "NameError",
     "evalue": "name 'backend' is not defined",
     "output_type": "error",
     "traceback": [
      "\u001b[31m---------------------------------------------------------------------------\u001b[39m",
      "\u001b[31mNameError\u001b[39m                                 Traceback (most recent call last)",
      "\u001b[36mCell\u001b[39m\u001b[36m \u001b[39m\u001b[32mIn[7]\u001b[39m\u001b[32m, line 2\u001b[39m\n\u001b[32m      1\u001b[39m \u001b[38;5;66;03m# Set up the Estimator\u001b[39;00m\n\u001b[32m----> \u001b[39m\u001b[32m2\u001b[39m estimator = Estimator(mode=\u001b[43mbackend\u001b[49m)\n\u001b[32m      4\u001b[39m \u001b[38;5;66;03m# Define some observables\u001b[39;00m\n\u001b[32m      5\u001b[39m ZZZ = SparsePauliOp(\u001b[33m\"\u001b[39m\u001b[33mZZZ\u001b[39m\u001b[33m\"\u001b[39m)\n",
      "\u001b[31mNameError\u001b[39m: name 'backend' is not defined"
     ]
    }
   ],
   "source": [
    "# Set up the Estimator\n",
    "estimator = Estimator(mode=backend)\n",
    "\n",
    "# Define some observables\n",
    "ZZZ = SparsePauliOp(\"ZZZ\")\n",
    "ZZX = SparsePauliOp(\"ZZX\")\n",
    "ZII = SparsePauliOp(\"ZII\")\n",
    "XXI = SparsePauliOp(\"XXI\")\n",
    "ZZI = SparsePauliOp(\"ZZI\")\n",
    "III = SparsePauliOp(\"III\")\n",
    "observables = [ZZZ, ZZX, ZII, XXI, ZZI, III]\n",
    "\n",
    "# Submit the circuit to Estimator\n",
    "pub = (qc, observables)\n",
    "job = estimator.run(pubs=[pub])\n",
    "\n",
    "# Get the results\n",
    "results_estimator = job.result()"
   ]
  },
  {
   "cell_type": "markdown",
   "id": "6bb135a4",
   "metadata": {},
   "source": [
    "You may now go to the final step of Qiskit patterns, where we will visualize what we have obtained."
   ]
  },
  {
   "cell_type": "markdown",
   "id": "17127f92",
   "metadata": {},
   "source": [
    "## Step 4. Post-process <a id=\"post-process\"></a>\n",
    "\n",
    "Finally, the last step of Qiskit patterns is to postprocess the information we have gathered from the execution of the quantum circuit.\n",
    "\n",
    "First we visualize the results from the sampler where we can visualize the counts with a histogram plot and check in one glance how the two possible quantum states are measured with a probability of 50%"
   ]
  },
  {
   "cell_type": "markdown",
   "id": "26848c95",
   "metadata": {},
   "source": [
    "counts_list = results_sampler[0].data.meas.get_counts()\n",
    "print(f\"  Outcomes : {counts_list}\")\n",
    "display(plot_histogram(counts_list, title=\"GHZ state\"))"
   ]
  },
  {
   "cell_type": "code",
   "execution_count": null,
   "id": "3b9c4ae5",
   "metadata": {},
   "outputs": [
    {
     "ename": "NameError",
     "evalue": "name 'results_estimator' is not defined",
     "output_type": "error",
     "traceback": [
      "\u001b[31m---------------------------------------------------------------------------\u001b[39m",
      "\u001b[31mNameError\u001b[39m                                 Traceback (most recent call last)",
      "\u001b[36mCell\u001b[39m\u001b[36m \u001b[39m\u001b[32mIn[8]\u001b[39m\u001b[32m, line 1\u001b[39m\n\u001b[32m----> \u001b[39m\u001b[32m1\u001b[39m exp_values = \u001b[43mresults_estimator\u001b[49m[\u001b[32m0\u001b[39m].data.evs\n\u001b[32m      2\u001b[39m observables_list = [\u001b[33m\"\u001b[39m\u001b[33mZZZ\u001b[39m\u001b[33m\"\u001b[39m, \u001b[33m\"\u001b[39m\u001b[33mZZX\u001b[39m\u001b[33m\"\u001b[39m, \u001b[33m\"\u001b[39m\u001b[33mZII\u001b[39m\u001b[33m\"\u001b[39m, \u001b[33m\"\u001b[39m\u001b[33mXXI\u001b[39m\u001b[33m\"\u001b[39m, \u001b[33m\"\u001b[39m\u001b[33mZZI\u001b[39m\u001b[33m\"\u001b[39m, \u001b[33m\"\u001b[39m\u001b[33mIII\u001b[39m\u001b[33m\"\u001b[39m]\n\u001b[32m      3\u001b[39m \u001b[38;5;28mprint\u001b[39m(\u001b[33mf\u001b[39m\u001b[33m\"\u001b[39m\u001b[33mExpectation values: \u001b[39m\u001b[38;5;132;01m{\u001b[39;00m\u001b[38;5;28mlist\u001b[39m(\u001b[38;5;28mzip\u001b[39m(observables_list,\u001b[38;5;250m \u001b[39mexp_values))\u001b[38;5;132;01m}\u001b[39;00m\u001b[33m\"\u001b[39m)\n",
      "\u001b[31mNameError\u001b[39m: name 'results_estimator' is not defined"
     ]
    }
   ],
   "source": [
    "exp_values = results_estimator[0].data.evs\n",
    "observables_list = [\"ZZZ\", \"ZZX\", \"ZII\", \"XXI\", \"ZZI\", \"III\"]\n",
    "print(f\"Expectation values: {list(zip(observables_list, exp_values))}\")\n",
    "\n",
    "# Set up our plot\n",
    "container = plt.bar(observables_list, exp_values, width=0.8)\n",
    "# Label each axis\n",
    "plt.xlabel(\"Observables\")\n",
    "plt.ylabel(\"Values\")\n",
    "plt.show()"
   ]
  },
  {
   "cell_type": "markdown",
   "id": "51f7d085",
   "metadata": {},
   "source": [
    "One can see that the observables $ZZI$ and $III$ have an expectation value of 1, since $ZZI$ introduces two minus signs that cancel out and $III$ acts as the identity, leaving the GHZ state unchanged. On the other hand, the rest of the observables have an expectation value of 0, since their $Z$ operators introduce an odd number of minus signs or the $X$ operators flip a number of qubits that make the states overlapping orthogonal."
   ]
  },
  {
   "cell_type": "markdown",
   "id": "2483e5a1",
   "metadata": {},
   "source": [
    "# Congratulations! <a id=\"congratulations\"></a>\n",
    "\n",
    "You have successfully completed the getting started notebook.\n",
    "\n",
    "In this lab you have successfully set up your machine to execute Qiskit 2.x and saved your IBM Cloud token to track your progress QML4Africa and execute quantum circuits in real hardware. Moreover, you have learnt about Qiskit patterns, implementing a specific example of the GHZ circuit and highlighting the importance of designing an optimized quantum circuit. Finally, you have executed a quantum circuit of the GHZ on a quantum simulator observing how the measurements of the Sampler are in good agreement with the theoretical probabilities of measuring the states $|000\\rangle$ and $|111\\rangle$ with 50% of probability.\n",
    "\n",
    "At this point, as a bonus exercise it would be interesting to perform the same experiment on real hardware to see how the noise affect the outcomes and check that in that case we will not have a perfect agreement between the theoretical probabilities and the outcomes. \n",
    "\n",
    "Are you ready? Let's dig in!"
   ]
  },
  {
   "cell_type": "markdown",
   "id": "6fd32181",
   "metadata": {},
   "source": [
    "## Bonus challenge: Running GHZ on hardware <a id=\"bonus\"></a>\n",
    "\n",
    "To execute a quantum circuit on a quantum computer using Qiskit we first need to define the quantum backend. We could manually select which quantum computer we want to use out of the ones available by IBM Cloud. However, sometimes it is more convenient just to select the machine that is least busy at the moment to ensure a fast execution. That's where the method `least_busy` comes in handy."
   ]
  },
  {
   "cell_type": "code",
   "execution_count": null,
   "id": "ca9abd8a",
   "metadata": {},
   "outputs": [],
   "source": [
    "# Define the service. This allows you to access IBM QPUs.\n",
    "service = QiskitRuntimeService()\n",
    "\n",
    "# Get a backend\n",
    "backend = service.least_busy(operational=True, simulator=False)\n",
    "print(f\"We are using the {backend.name} quantum computer\")"
   ]
  },
  {
   "cell_type": "code",
   "execution_count": null,
   "id": "02671c42",
   "metadata": {},
   "outputs": [],
   "source": [
    "With the next cell we will illustrate how easy it is to execute quantum circuits on hardware with `QiskitRuntimeService`. Once we have selected the backend in the cell above, we can just copy and paste the same lines of code that we wrote for the Sampler simulator, including postprocessing and visualization."
   ]
  },
  {
   "cell_type": "code",
   "execution_count": null,
   "id": "1602bb9e",
   "metadata": {},
   "outputs": [],
   "source": [
    "### WRITE YOUR CODE BELOW HERE ###\n",
    "# Step 1. Map\n",
    "# You should have created a GHZ circuit above and assigned with variable `qc`\n",
    "\n",
    "\n",
    "# Step 2. Optimize\n",
    "\n",
    "\n",
    "# Step 3. Execute\n",
    "\n",
    "\n",
    "# Step 4. Post-process\n",
    "\n",
    "### YOUR CODE FINISHES HERE    ###\n",
    "\n",
    "print(f\"Outcomes : {counts_list}\")\n",
    "plot_histogram(counts_list,title='GHZ state')"
   ]
  },
  {
   "cell_type": "markdown",
   "id": "741273d9",
   "metadata": {},
   "source": [
    "Awesome! \n",
    "\n",
    "You have managed to run a circuit on a real quantum computer, and the results are quite good! The most repeated states are $|000\\rangle$ and $|111\\rangle$ and they accumulate a probability just below 50%. However, in this case we can observe that the noise of the quantum machines is producing that some quantum states are measured, even if the theoretical probability of measuring is 0. This is indeed expected, and we will see in the next labs how we can try to correct or mitigate the errors that are introduced by the noisy nature of quantum computers."
   ]
  }
 ],
 "metadata": {
  "kernelspec": {
   "display_name": "quantum_dlix",
   "language": "python",
   "name": "python3"
  },
  "language_info": {
   "codemirror_mode": {
    "name": "ipython",
    "version": 3
   },
   "file_extension": ".py",
   "mimetype": "text/x-python",
   "name": "python",
   "nbconvert_exporter": "python",
   "pygments_lexer": "ipython3",
   "version": "3.12.11"
  }
 },
 "nbformat": 4,
 "nbformat_minor": 5
}
